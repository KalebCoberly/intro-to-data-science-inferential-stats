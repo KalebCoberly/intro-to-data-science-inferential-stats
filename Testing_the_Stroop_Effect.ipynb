{
 "cells": [
  {
   "cell_type": "markdown",
   "metadata": {},
   "source": [
    "## Test the Stroop Effect\n",
    "\n",
    "### Abstract\n",
    "Do incongruent stimuli slow responses? To get at this question, I used dubious data to simulate a one-tailed, dependent-samples t-test comparing response times in a classic Stroop task. The results from the congruent word task (M = 14.05, SD = 3.56) and the incongruent word task (M = 22.02, SD = 4.80) suggest that incongruent stimuli increase response times in the Stroop task, t(23) = 8.021, p < .001. The sample size, 24, is too small to warrant drawing conclusions without further research. And, because of the small sample size, I ignored the assumptions regarding sample variances and distribution of differences required for a valid t-test.\n",
    "\n",
    "### Background\n",
    "In a Stroop task, participants iterate through two equally lengthed lists of color names. Each color name is printed in a color of ink. In the first list, the congruent condition, words are printed in the same color that is named by the word. In the second list, the incongruent condition, words are printed in a color that is incongruent with the named color. Participants must name the color of the ink, regardless of the color that the word indicates, as fast as possible before moving on to the next word.\n",
    "\n",
    "Researchers measure the response times and compare those of the congruent condition with those of the incongruent condition.\n",
    "\n",
    "### Data\n",
    "The CSV file ('stroopdata.csv') contains observations from 24 participants: the total reponse time to the congruent list and the total response time to the incongruent list; i.e., there are two, dependent samples of size 24 each.\n",
    "\n",
    "This data comes from Udacity and may or may not be simulated.\n",
    "#### Summary stats"
   ]
  },
  {
   "cell_type": "markdown",
   "metadata": {},
   "source": [
    "<a id='describe_table'></a>"
   ]
  },
  {
   "cell_type": "code",
   "execution_count": 1,
   "metadata": {},
   "outputs": [
    {
     "data": {
      "text/html": [
       "<div>\n",
       "<style scoped>\n",
       "    .dataframe tbody tr th:only-of-type {\n",
       "        vertical-align: middle;\n",
       "    }\n",
       "\n",
       "    .dataframe tbody tr th {\n",
       "        vertical-align: top;\n",
       "    }\n",
       "\n",
       "    .dataframe thead th {\n",
       "        text-align: right;\n",
       "    }\n",
       "</style>\n",
       "<table border=\"1\" class=\"dataframe\">\n",
       "  <thead>\n",
       "    <tr style=\"text-align: right;\">\n",
       "      <th></th>\n",
       "      <th>Congruent</th>\n",
       "      <th>Incongruent</th>\n",
       "    </tr>\n",
       "  </thead>\n",
       "  <tbody>\n",
       "    <tr>\n",
       "      <th>count</th>\n",
       "      <td>24.000000</td>\n",
       "      <td>24.000000</td>\n",
       "    </tr>\n",
       "    <tr>\n",
       "      <th>mean</th>\n",
       "      <td>14.051125</td>\n",
       "      <td>22.015917</td>\n",
       "    </tr>\n",
       "    <tr>\n",
       "      <th>std</th>\n",
       "      <td>3.559358</td>\n",
       "      <td>4.797057</td>\n",
       "    </tr>\n",
       "    <tr>\n",
       "      <th>min</th>\n",
       "      <td>8.630000</td>\n",
       "      <td>15.687000</td>\n",
       "    </tr>\n",
       "    <tr>\n",
       "      <th>25%</th>\n",
       "      <td>11.895250</td>\n",
       "      <td>18.716750</td>\n",
       "    </tr>\n",
       "    <tr>\n",
       "      <th>50%</th>\n",
       "      <td>14.356500</td>\n",
       "      <td>21.017500</td>\n",
       "    </tr>\n",
       "    <tr>\n",
       "      <th>75%</th>\n",
       "      <td>16.200750</td>\n",
       "      <td>24.051500</td>\n",
       "    </tr>\n",
       "    <tr>\n",
       "      <th>max</th>\n",
       "      <td>22.328000</td>\n",
       "      <td>35.255000</td>\n",
       "    </tr>\n",
       "  </tbody>\n",
       "</table>\n",
       "</div>"
      ],
      "text/plain": [
       "       Congruent  Incongruent\n",
       "count  24.000000    24.000000\n",
       "mean   14.051125    22.015917\n",
       "std     3.559358     4.797057\n",
       "min     8.630000    15.687000\n",
       "25%    11.895250    18.716750\n",
       "50%    14.356500    21.017500\n",
       "75%    16.200750    24.051500\n",
       "max    22.328000    35.255000"
      ]
     },
     "execution_count": 1,
     "metadata": {},
     "output_type": "execute_result"
    }
   ],
   "source": [
    "import pandas as pd\n",
    "stroop_df = pd.read_csv('stroopdata.csv')\n",
    "stroop_df.describe()"
   ]
  },
  {
   "cell_type": "code",
   "execution_count": 2,
   "metadata": {},
   "outputs": [
    {
     "data": {
      "text/plain": [
       "Text(0, 0.5, 'Total Seconds')"
      ]
     },
     "execution_count": 2,
     "metadata": {},
     "output_type": "execute_result"
    },
    {
     "data": {
      "image/png": "[encoded data removed]",
      "text/plain": [
       "<Figure size 432x288 with 1 Axes>"
      ]
     },
     "metadata": {
      "needs_background": "light"
     },
     "output_type": "display_data"
    }
   ],
   "source": [
    "bp = stroop_df.plot.box(title='Stroop Effect, N = 24')\n",
    "bp.set_ylabel('Total Seconds')"
   ]
  },
  {
   "cell_type": "markdown",
   "metadata": {},
   "source": [
    "The mean response time to incongruent stimuli is over 50% higher than the that of congruent stimuli, and about equal to the max value of congruent response times. The minimum response time to incongruent stimuli is greater than the mean response time to congruent stimuli.\n",
    "\n",
    "The standard deviation, minimum value, and maximum value of the incongruent condition are higher than those of the congruent condition as well, as is the interquartile range."
   ]
  },
  {
   "cell_type": "markdown",
   "metadata": {},
   "source": [
    "### Method\n",
    "The null hypothesis is that incongruence does not increase response time. The mean response time to incongruent stimuli minus the mean response time to congruent stimuli ($\\mu_{Stroop}$) is less than or equal to zero.\n",
    "\n",
    "The alternate hypothesis is that incongruence increases response time. $\\mu_{Stroop}$ is significantly greater than zero.\n",
    "\n",
    "$ H_0 : \\mu_{Stroop} \\leq 0 $\n",
    "\n",
    "$ H_A : \\mu_{Stroop} > 0 $\n",
    "\n",
    "Testing for a significant increase in response time using a continuous metric (floating point seconds) called for a right-tailed t-test. Because the sets of response times come from the same participants, I used a dependent samples method.\n",
    "\n",
    "#### Assumptions\n",
    "Assuming the sample was a randomly selected representative sample, a t-test was appropriate. I also assumed by using the t-test that the population difference of means is normally distributed, which is a reasonable assumption given that it measures a feature similar to other normally distributed features (like height). The sample size is too small to strongly confirm or deny this assumption."
   ]
  },
  {
   "cell_type": "code",
   "execution_count": 3,
   "metadata": {},
   "outputs": [
    {
     "data": {
      "text/plain": [
       "Text(0.5, 0, 'Total Seconds')"
      ]
     },
     "execution_count": 3,
     "metadata": {},
     "output_type": "execute_result"
    },
    {
     "data": {
      "image/png": "[encoded data removed]",
      "text/plain": [
       "<Figure size 432x288 with 1 Axes>"
      ]
     },
     "metadata": {
      "needs_background": "light"
     },
     "output_type": "display_data"
    }
   ],
   "source": [
    "stroops = stroop_df['Incongruent'] - stroop_df['Congruent']\n",
    "stroops.plot.hist(title='Difference in Response Times').\\\n",
    "set_xlabel('Total Seconds')"
   ]
  },
  {
   "cell_type": "markdown",
   "metadata": {},
   "source": [
    "The t-test also assumes similar variances in samples, and <a href='#describe_table'>the summary table above</a> shows that the standard deviation of the second sample was roughly 30% greater than the standard deviation of the first sample. This may be too large of a difference for a t-test, or this difference might have been narrower with a larger sample size. But, with equal-sized, dependent samples, pooling variances was not appropriate.\n",
    "\n",
    "Overall, the small sample size tempers confidence in the results."
   ]
  },
  {
   "cell_type": "markdown",
   "metadata": {},
   "source": [
    "### Results\n",
    "The results from the congruent word task (M = 14.05, SD = 3.56) and the incongruent word task (M = 22.02, SD = 4.80) suggest that incongruent stimuli increase response times in the Stroop task, t(23) = 8.021, p < .001.\n",
    "\n",
    "Again, these results should be tempered by the small sample size and unwarranted assumptions discussed above."
   ]
  },
  {
   "cell_type": "code",
   "execution_count": 4,
   "metadata": {},
   "outputs": [
    {
     "name": "stdout",
     "output_type": "stream",
     "text": [
      "alpha: 0.001\n",
      "Critical t-value: 3.485 \n",
      "\n",
      "Reject the null hypothesis.\n",
      "t( 23.0 ): 8.021\n",
      "p = 2.051500292855589e-08\n",
      "p < 0.001 \n",
      "\n",
      "The treatment condition had an effect of changing the mean outcome by 1.66 standard deviations (Cohen's d), or 7.9648 seconds. \n",
      "\n",
      "The treatment likely accounts for 73.7% of the difference in outcomes.\n",
      "\n",
      "We can say with 99.9% confidence that conducting the treatment will result in mean outcome differences between 6.9718 and 8.9578 seconds.\n"
     ]
    }
   ],
   "source": [
    "import print_results\n",
    "retain_null = print_results.print_results(df=stroop_df, alpha=0.001)"
   ]
  }
 ],
 "metadata": {
  "kernelspec": {
   "display_name": "Python 3",
   "language": "python",
   "name": "python3"
  },
  "language_info": {
   "codemirror_mode": {
    "name": "ipython",
    "version": 3
   },
   "file_extension": ".py",
   "mimetype": "text/x-python",
   "name": "python",
   "nbconvert_exporter": "python",
   "pygments_lexer": "ipython3",
   "version": "3.8.5"
  }
 },
 "nbformat": 4,
 "nbformat_minor": 4
}
